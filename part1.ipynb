{
 "cells": [
  {
   "cell_type": "code",
   "execution_count": 1,
   "id": "4d0c2d1f",
   "metadata": {},
   "outputs": [
    {
     "name": "stdout",
     "output_type": "stream",
     "text": [
      "hello world\n"
     ]
    }
   ],
   "source": [
    "print(\"hello world\")"
   ]
  },
  {
   "cell_type": "code",
   "execution_count": 10,
   "id": "127d4384",
   "metadata": {},
   "outputs": [],
   "source": [
    "from random import random\n",
    "import numpy as np"
   ]
  },
  {
   "cell_type": "code",
   "execution_count": 11,
   "id": "7b712281",
   "metadata": {},
   "outputs": [],
   "source": [
    "rand_num = int(random()*20)\n",
    "counter = 0"
   ]
  },
  {
   "cell_type": "code",
   "execution_count": 12,
   "id": "19cc8b70",
   "metadata": {},
   "outputs": [
    {
     "name": "stdout",
     "output_type": "stream",
     "text": [
      "The input number is less than rand_int\n",
      "The input number is less than rand_int\n",
      "you entered correct number\n"
     ]
    }
   ],
   "source": [
    "while counter < 5 :\n",
    "    counter=+1\n",
    "    value = int(input(\"please enter a number:\"))\n",
    "    if value > rand_num :\n",
    "      print (\"The input number is greater than rand_int\")\n",
    "    elif value < rand_num:\n",
    "       print (\"The input number is less than rand_int\")\n",
    "    else :\n",
    "       print(\"you entered correct number\")\n",
    "       break"
   ]
  },
  {
   "cell_type": "code",
   "execution_count": 13,
   "id": "a3f56640",
   "metadata": {},
   "outputs": [
    {
     "name": "stdout",
     "output_type": "stream",
     "text": [
      "17\n"
     ]
    }
   ],
   "source": [
    "print(rand_num)"
   ]
  },
  {
   "cell_type": "code",
   "execution_count": null,
   "id": "ba09f2c6",
   "metadata": {},
   "outputs": [],
   "source": [
    "# ejra ba ravesh deghe"
   ]
  },
  {
   "cell_type": "code",
   "execution_count": 17,
   "id": "561f0d39",
   "metadata": {},
   "outputs": [],
   "source": [
    "flag = True\n",
    "counter = 0\n",
    "rand_num = int(random()*20)"
   ]
  },
  {
   "cell_type": "code",
   "execution_count": 18,
   "id": "43bb2671",
   "metadata": {},
   "outputs": [
    {
     "name": "stdout",
     "output_type": "stream",
     "text": [
      "The input number is greater than rand_int\n",
      "The input number is greater than rand_int\n",
      "The input number is greater than rand_int\n",
      "you entered correct number\n"
     ]
    }
   ],
   "source": [
    "while counter < 5  and flag:\n",
    "    counter=+1\n",
    "    value = int(input(\"please enter a number:\"))\n",
    "    if value > rand_num :\n",
    "      print (\"The input number is greater than rand_int\")\n",
    "    elif value < rand_num:\n",
    "       print (\"The input number is less than rand_int\")\n",
    "    else :\n",
    "       print(\"you entered correct number\")\n",
    "       flag = False"
   ]
  }
 ],
 "metadata": {
  "kernelspec": {
   "display_name": "kiani",
   "language": "python",
   "name": "python3"
  },
  "language_info": {
   "codemirror_mode": {
    "name": "ipython",
    "version": 3
   },
   "file_extension": ".py",
   "mimetype": "text/x-python",
   "name": "python",
   "nbconvert_exporter": "python",
   "pygments_lexer": "ipython3",
   "version": "3.11.9"
  }
 },
 "nbformat": 4,
 "nbformat_minor": 5
}
