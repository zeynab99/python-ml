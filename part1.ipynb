{
 "cells": [
  {
   "cell_type": "code",
   "execution_count": 1,
   "id": "4d0c2d1f",
   "metadata": {},
   "outputs": [
    {
     "name": "stdout",
     "output_type": "stream",
     "text": [
      "hello world\n"
     ]
    }
   ],
   "source": [
    "print(\"hello world\")"
   ]
  },
  {
   "cell_type": "code",
   "execution_count": null,
   "id": "127d4384",
   "metadata": {},
   "outputs": [],
   "source": [
    "from random import random"
   ]
  },
  {
   "cell_type": "code",
   "execution_count": null,
   "id": "7b712281",
   "metadata": {},
   "outputs": [],
   "source": [
    "rand_num = int(random()*20)\n",
    "counter = 0"
   ]
  },
  {
   "cell_type": "code",
   "execution_count": 12,
   "id": "19cc8b70",
   "metadata": {},
   "outputs": [
    {
     "name": "stdout",
     "output_type": "stream",
     "text": [
      "The input number is less than rand_int\n",
      "The input number is less than rand_int\n",
      "you entered correct number\n"
     ]
    }
   ],
   "source": [
    "while counter < 5 :\n",
    "    counter=+1\n",
    "    value = int(input(\"please enter a number:\"))\n",
    "    if value > rand_num :\n",
    "      print (\"The input number is greater than rand_int\")\n",
    "    elif value < rand_num:\n",
    "       print (\"The input number is less than rand_int\")\n",
    "    else :\n",
    "       print(\"you entered correct number\")\n",
    "       break"
   ]
  },
  {
   "cell_type": "code",
   "execution_count": 13,
   "id": "a3f56640",
   "metadata": {},
   "outputs": [
    {
     "name": "stdout",
     "output_type": "stream",
     "text": [
      "17\n"
     ]
    }
   ],
   "source": [
    "print(rand_num)"
   ]
  },
  {
   "cell_type": "code",
   "execution_count": null,
   "id": "ba09f2c6",
   "metadata": {},
   "outputs": [],
   "source": [
    "# ejra ba ravesh deghe"
   ]
  },
  {
   "cell_type": "code",
   "execution_count": 17,
   "id": "561f0d39",
   "metadata": {},
   "outputs": [],
   "source": [
    "flag = True\n",
    "counter = 0\n",
    "rand_num = int(random()*20)"
   ]
  },
  {
   "cell_type": "code",
   "execution_count": 18,
   "id": "43bb2671",
   "metadata": {},
   "outputs": [
    {
     "name": "stdout",
     "output_type": "stream",
     "text": [
      "The input number is greater than rand_int\n",
      "The input number is greater than rand_int\n",
      "The input number is greater than rand_int\n",
      "you entered correct number\n"
     ]
    }
   ],
   "source": [
    "while counter < 5  and flag:\n",
    "    counter=+1\n",
    "    value = int(input(\"please enter a number:\"))\n",
    "    if value > rand_num :\n",
    "      print (\"The input number is greater than rand_int\")\n",
    "    elif value < rand_num:\n",
    "       print (\"The input number is less than rand_int\")\n",
    "    else :\n",
    "       print(\"you entered correct number\")\n",
    "       flag = False"
   ]
  },
  {
   "cell_type": "markdown",
   "id": "2d226b26",
   "metadata": {},
   "source": []
  },
  {
   "cell_type": "code",
   "execution_count": null,
   "id": "2d0acbd6",
   "metadata": {},
   "outputs": [],
   "source": []
  },
  {
   "cell_type": "code",
   "execution_count": null,
   "id": "b1351417",
   "metadata": {},
   "outputs": [
    {
     "ename": "NameError",
     "evalue": "name 'counter' is not defined",
     "output_type": "error",
     "traceback": [
      "\u001b[1;31m---------------------------------------------------------------------------\u001b[0m",
      "\u001b[1;31mNameError\u001b[0m                                 Traceback (most recent call last)",
      "Cell \u001b[1;32mIn[2], line 1\u001b[0m\n\u001b[1;32m----> 1\u001b[0m \u001b[38;5;28;01mwhile\u001b[39;00m \u001b[43mcounter\u001b[49m \u001b[38;5;241m<\u001b[39m \u001b[38;5;241m5\u001b[39m  \u001b[38;5;129;01mand\u001b[39;00m flag:\n\u001b[0;32m      2\u001b[0m     counter\u001b[38;5;241m=\u001b[39m\u001b[38;5;241m+\u001b[39m\u001b[38;5;241m1\u001b[39m\n\u001b[0;32m      3\u001b[0m     value \u001b[38;5;241m=\u001b[39m \u001b[38;5;28mint\u001b[39m(\u001b[38;5;28minput\u001b[39m(\u001b[38;5;124m\"\u001b[39m\u001b[38;5;124mplease enter a number:\u001b[39m\u001b[38;5;124m\"\u001b[39m))\n",
      "\u001b[1;31mNameError\u001b[0m: name 'counter' is not defined"
     ]
    }
   ],
   "source": [
    "from random import random\n",
    "rand_num = int(random()*1000)\n",
    "while counter < 5  and flag:\n",
    "    counter=+1\n",
    "    value = int(input(\"please enter a number:\"))\n",
    "    if value > rand_num :\n",
    "      print (\"The input number is greater than rand_int\")\n",
    "    elif value < rand_num:\n",
    "       print (\"The input number is less than rand_int\")\n",
    "    else :\n",
    "       print(\"you entered correct number\")\n",
    "       flag = False"
   ]
  },
  {
   "cell_type": "code",
   "execution_count": 5,
   "id": "5d04f934",
   "metadata": {},
   "outputs": [],
   "source": [
    "from random import random\n",
    "rand_num = int(random()*100)\n",
    "max_predection=4\n"
   ]
  },
  {
   "cell_type": "code",
   "execution_count": null,
   "id": "afeda429",
   "metadata": {},
   "outputs": [
    {
     "name": "stdout",
     "output_type": "stream",
     "text": [
      "please enter a number\n",
      "The input number is less than rand_int\n",
      "please enter a number\n",
      "The input number is less than rand_int\n",
      "please enter a number\n",
      "The input number is less than rand_int\n"
     ]
    }
   ],
   "source": [
    "for number in range (1,max_predection+1):\n",
    "    try:\n",
    "      value = int(input(f\"please enter guess {number:}\"))\n",
    "    except  ValueError:\n",
    "       print(\"please enter a number\")\n",
    "   continue  \n",
    "    if value > rand_num :\n",
    "      print (\"The input number is greater than rand_int\")\n",
    "    elif value < rand_num:\n",
    "       print (\"The input number is less than rand_int\")\n",
    "    else :\n",
    "       print(\"you entered correct number\")\n",
    "       break\n",
    "else:\n",
    "   print(\"game over\")     "
   ]
  }
 ],
 "metadata": {
  "kernelspec": {
   "display_name": "kiani",
   "language": "python",
   "name": "python3"
  },
  "language_info": {
   "codemirror_mode": {
    "name": "ipython",
    "version": 3
   },
   "file_extension": ".py",
   "mimetype": "text/x-python",
   "name": "python",
   "nbconvert_exporter": "python",
   "pygments_lexer": "ipython3",
   "version": "3.11.9"
  }
 },
 "nbformat": 4,
 "nbformat_minor": 5
}
